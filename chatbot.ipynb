{
  "nbformat": 4,
  "nbformat_minor": 0,
  "metadata": {
    "colab": {
      "name": "chatbot.ipynb",
      "provenance": [],
      "collapsed_sections": [],
      "authorship_tag": "ABX9TyNU9yMnzoPtYTRiPzzziORa",
      "include_colab_link": true
    },
    "kernelspec": {
      "name": "python3",
      "display_name": "Python 3"
    },
    "language_info": {
      "name": "python"
    }
  },
  "cells": [
    {
      "cell_type": "markdown",
      "metadata": {
        "id": "view-in-github",
        "colab_type": "text"
      },
      "source": [
        "<a href=\"https://colab.research.google.com/github/zeyad-kay/pychat/blob/master/chatbot.ipynb\" target=\"_parent\"><img src=\"https://colab.research.google.com/assets/colab-badge.svg\" alt=\"Open In Colab\"/></a>"
      ]
    },
    {
      "cell_type": "code",
      "source": [
        "import re\n",
        "\n",
        "def message_probability(user_message, recognised_words, required_words=[]):\n",
        "    message_certainty = 0\n",
        "    has_required_words = False\n",
        "\n",
        "    # Counts how many words are present in each predefined message\n",
        "    for word in user_message:\n",
        "        if word in recognised_words:\n",
        "            message_certainty += 1\n",
        "\n",
        "    # Calculates the percent of recognised words in a user message\n",
        "    percentage = float(message_certainty)\n",
        "\n",
        "    # Checks that the required words are in the string\n",
        "    for word in required_words:\n",
        "        if word in user_message:\n",
        "            has_required_words = True\n",
        "            break\n",
        "\n",
        "    # Must either have the required words, or be a single response\n",
        "    if has_required_words:\n",
        "      return int(percentage * 100)\n",
        "    else:\n",
        "      return 0\n",
        "\n",
        "\n",
        "def check_all_messages(message):\n",
        "    highest_prob_list = {}\n",
        "\n",
        "    # Simplifies response creation / adds it to the dict\n",
        "    def response(bot_response, list_of_words, required_words=[]):\n",
        "        nonlocal highest_prob_list\n",
        "        highest_prob_list[bot_response] = message_probability(message, list_of_words, required_words)\n",
        "\n",
        "    # Responses -------------------------------------------------------------------------------------------------------\n",
        "    response('Hello!', ['hello', 'hi', 'hey', 'sup', 'heyo'], required_words=['hello', 'hi', 'hey', 'sup', 'heyo'])\n",
        "    response('See you!', ['bye', 'goodbye'], required_words=['bye', 'goodbye'])\n",
        "    response('You\\'re welcome!', ['thank', 'thanks'], required_words= ['thank', 'thanks'])\n",
        "    response('Go to the Ear,Nose and Throat  clinic', ['headache','thyroid','swallowing','smelling','taste','Sense' ,'of' ,'smell','nasal','nose','ear','tonsil', 'inflammation','i', 'have','runny ', 'nose','sore', 'thoat','caugh','sneezing','hearing', 'loss','Snoring','obstructive', 'sleep', 'apnea','balance', 'problems','sinus', 'pressure','sinusitis'], required_words=['headache','swallowing','smelling','taste','smell','nasal','ear','tonsil','nose','sinusitis','sinus','balance','apnea','nose','throat','caugh','sneezing','thyroid','hearing','snoring'])\n",
        "    response('Go to the chest clinic', ['i', 'have','trouble','pain','when', 'breath','shortness','cough','in','out','blood','mucus','not', 'gettig','enough', 'air','wheezing','chest','apnea'], required_words=['apnea','breath','cough','air','wheezing','chest'])\n",
        "    response('Go to the Skin  clinic', ['i', 'have','severe', 'acne','persistent','rash','hives','scars','eczema','psoriasis','face','skin','warts','hair','nail''signs', 'of', 'aging','varicose','spider', 'veins','vitiligo'], required_words=['vitiligo','spider', 'veins','varicose','aging','nail','hair','warts','skin','face','psoriasis','acne','rash','hives','scars','eczema'])\n",
        "    response('Go to the gastroenterology clinic', ['diarrhea','stool','esophageal','i', 'have', 'abdominal', 'pain','discomfort','bleeding', 'in', 'the', 'digestive', 'tract','diabetes','constipation','blood', 'pressure','diarrhoea','heartburn','indigestion','stomach','vomiting','ulcers','pancreatitis','hepatitis','gallbladder','colon','anaemia','fatigue','constipation','fever','cramping'], required_words=['blood', 'diarrhea','pressure','diabetes','esophageal','stool','pancreatitis','hepatitis','gallbladder','colon','fatigue','anaemia','constipation','cramping','fever','ulcers','vomiting','stomach','indigestion','heartburn','diarrhoea','constipation','abdominal','tract','digestive'])\n",
        "    response('Go to the oculist clinic', ['i','have','problem','eye','see'], required_words=['eye','see'])\n",
        "    response('Go to the orthopedic clinic', ['i','have','problem','back','bone'], required_words=['back','bone'])\n",
        "\n",
        "    #response('Go to the chest clinic', ['i', 'have','trouble','pain','when', 'breath','shortness','cough','in','out'و'blood'و'mucus'و'not', 'gettig','enough', 'air','wheezing'], required_words=['breath','cough','air','wheezing'])\n",
        "    best_match = max(highest_prob_list, key=highest_prob_list.get)\n",
        "    #print(highest_prob_list)\n",
        "    #print(f'Best match = {best_match} | Score: {highest_prob_list[best_match]}')\n",
        "    if highest_prob_list[best_match] == 0:\n",
        "      return \"Sorry i can't understand. pleasa try again\"\n",
        "    else:\n",
        "      return best_match\n",
        "\n",
        "\n",
        "# Used to get the response\n",
        "def get_response(user_input):\n",
        "    split_message = re.split(r'\\s+|[,;?!.-]\\s*', user_input.lower())\n",
        "    response = check_all_messages(split_message)\n",
        "    return response\n",
        "\n",
        "\n",
        "# Testing the response system\n",
        "while True:\n",
        "    inp = input()\n",
        "    req_Res = get_response(inp)\n",
        "    print(req_Res)"
      ],
      "metadata": {
        "colab": {
          "base_uri": "https://localhost:8080/",
          "height": 745
        },
        "id": "blP-YNRok7dz",
        "outputId": "1378e2c7-4d12-407f-90d7-c002a5fd9c5d"
      },
      "execution_count": null,
      "outputs": [
        {
          "output_type": "stream",
          "name": "stdout",
          "text": [
            "hello\n",
            "Hello!\n",
            "bye\n",
            "See you!\n",
            "thank\n",
            "You're welcome!\n",
            "bone,hello\n",
            "Hello!\n",
            "bone, headache\n",
            "Go to the Ear,Nose and Throat  clinic\n"
          ]
        },
        {
          "output_type": "error",
          "ename": "KeyboardInterrupt",
          "evalue": "ignored",
          "traceback": [
            "\u001b[0;31m---------------------------------------------------------------------------\u001b[0m",
            "\u001b[0;31mKeyboardInterrupt\u001b[0m                         Traceback (most recent call last)",
            "\u001b[0;32m/usr/local/lib/python3.7/dist-packages/ipykernel/kernelbase.py\u001b[0m in \u001b[0;36m_input_request\u001b[0;34m(self, prompt, ident, parent, password)\u001b[0m\n\u001b[1;32m    728\u001b[0m             \u001b[0;32mtry\u001b[0m\u001b[0;34m:\u001b[0m\u001b[0;34m\u001b[0m\u001b[0;34m\u001b[0m\u001b[0m\n\u001b[0;32m--> 729\u001b[0;31m                 \u001b[0mident\u001b[0m\u001b[0;34m,\u001b[0m \u001b[0mreply\u001b[0m \u001b[0;34m=\u001b[0m \u001b[0mself\u001b[0m\u001b[0;34m.\u001b[0m\u001b[0msession\u001b[0m\u001b[0;34m.\u001b[0m\u001b[0mrecv\u001b[0m\u001b[0;34m(\u001b[0m\u001b[0mself\u001b[0m\u001b[0;34m.\u001b[0m\u001b[0mstdin_socket\u001b[0m\u001b[0;34m,\u001b[0m \u001b[0;36m0\u001b[0m\u001b[0;34m)\u001b[0m\u001b[0;34m\u001b[0m\u001b[0;34m\u001b[0m\u001b[0m\n\u001b[0m\u001b[1;32m    730\u001b[0m             \u001b[0;32mexcept\u001b[0m \u001b[0mException\u001b[0m\u001b[0;34m:\u001b[0m\u001b[0;34m\u001b[0m\u001b[0;34m\u001b[0m\u001b[0m\n",
            "\u001b[0;32m/usr/local/lib/python3.7/dist-packages/jupyter_client/session.py\u001b[0m in \u001b[0;36mrecv\u001b[0;34m(self, socket, mode, content, copy)\u001b[0m\n\u001b[1;32m    802\u001b[0m         \u001b[0;32mtry\u001b[0m\u001b[0;34m:\u001b[0m\u001b[0;34m\u001b[0m\u001b[0;34m\u001b[0m\u001b[0m\n\u001b[0;32m--> 803\u001b[0;31m             \u001b[0mmsg_list\u001b[0m \u001b[0;34m=\u001b[0m \u001b[0msocket\u001b[0m\u001b[0;34m.\u001b[0m\u001b[0mrecv_multipart\u001b[0m\u001b[0;34m(\u001b[0m\u001b[0mmode\u001b[0m\u001b[0;34m,\u001b[0m \u001b[0mcopy\u001b[0m\u001b[0;34m=\u001b[0m\u001b[0mcopy\u001b[0m\u001b[0;34m)\u001b[0m\u001b[0;34m\u001b[0m\u001b[0;34m\u001b[0m\u001b[0m\n\u001b[0m\u001b[1;32m    804\u001b[0m         \u001b[0;32mexcept\u001b[0m \u001b[0mzmq\u001b[0m\u001b[0;34m.\u001b[0m\u001b[0mZMQError\u001b[0m \u001b[0;32mas\u001b[0m \u001b[0me\u001b[0m\u001b[0;34m:\u001b[0m\u001b[0;34m\u001b[0m\u001b[0;34m\u001b[0m\u001b[0m\n",
            "\u001b[0;32m/usr/local/lib/python3.7/dist-packages/zmq/sugar/socket.py\u001b[0m in \u001b[0;36mrecv_multipart\u001b[0;34m(self, flags, copy, track)\u001b[0m\n\u001b[1;32m    624\u001b[0m         \"\"\"\n\u001b[0;32m--> 625\u001b[0;31m         \u001b[0mparts\u001b[0m \u001b[0;34m=\u001b[0m \u001b[0;34m[\u001b[0m\u001b[0mself\u001b[0m\u001b[0;34m.\u001b[0m\u001b[0mrecv\u001b[0m\u001b[0;34m(\u001b[0m\u001b[0mflags\u001b[0m\u001b[0;34m,\u001b[0m \u001b[0mcopy\u001b[0m\u001b[0;34m=\u001b[0m\u001b[0mcopy\u001b[0m\u001b[0;34m,\u001b[0m \u001b[0mtrack\u001b[0m\u001b[0;34m=\u001b[0m\u001b[0mtrack\u001b[0m\u001b[0;34m)\u001b[0m\u001b[0;34m]\u001b[0m\u001b[0;34m\u001b[0m\u001b[0;34m\u001b[0m\u001b[0m\n\u001b[0m\u001b[1;32m    626\u001b[0m         \u001b[0;31m# have first part already, only loop while more to receive\u001b[0m\u001b[0;34m\u001b[0m\u001b[0;34m\u001b[0m\u001b[0;34m\u001b[0m\u001b[0m\n",
            "\u001b[0;32mzmq/backend/cython/socket.pyx\u001b[0m in \u001b[0;36mzmq.backend.cython.socket.Socket.recv\u001b[0;34m()\u001b[0m\n",
            "\u001b[0;32mzmq/backend/cython/socket.pyx\u001b[0m in \u001b[0;36mzmq.backend.cython.socket.Socket.recv\u001b[0;34m()\u001b[0m\n",
            "\u001b[0;32mzmq/backend/cython/socket.pyx\u001b[0m in \u001b[0;36mzmq.backend.cython.socket._recv_copy\u001b[0;34m()\u001b[0m\n",
            "\u001b[0;32m/usr/local/lib/python3.7/dist-packages/zmq/backend/cython/checkrc.pxd\u001b[0m in \u001b[0;36mzmq.backend.cython.checkrc._check_rc\u001b[0;34m()\u001b[0m\n",
            "\u001b[0;31mKeyboardInterrupt\u001b[0m: ",
            "\nDuring handling of the above exception, another exception occurred:\n",
            "\u001b[0;31mKeyboardInterrupt\u001b[0m                         Traceback (most recent call last)",
            "\u001b[0;32m<ipython-input-20-f5a69f371740>\u001b[0m in \u001b[0;36m<module>\u001b[0;34m()\u001b[0m\n\u001b[1;32m     64\u001b[0m \u001b[0;31m# Testing the response system\u001b[0m\u001b[0;34m\u001b[0m\u001b[0;34m\u001b[0m\u001b[0;34m\u001b[0m\u001b[0m\n\u001b[1;32m     65\u001b[0m \u001b[0;32mwhile\u001b[0m \u001b[0;32mTrue\u001b[0m\u001b[0;34m:\u001b[0m\u001b[0;34m\u001b[0m\u001b[0;34m\u001b[0m\u001b[0m\n\u001b[0;32m---> 66\u001b[0;31m     \u001b[0minp\u001b[0m \u001b[0;34m=\u001b[0m \u001b[0minput\u001b[0m\u001b[0;34m(\u001b[0m\u001b[0;34m)\u001b[0m\u001b[0;34m\u001b[0m\u001b[0;34m\u001b[0m\u001b[0m\n\u001b[0m\u001b[1;32m     67\u001b[0m     \u001b[0mreq_Res\u001b[0m \u001b[0;34m=\u001b[0m \u001b[0mget_response\u001b[0m\u001b[0;34m(\u001b[0m\u001b[0minp\u001b[0m\u001b[0;34m)\u001b[0m\u001b[0;34m\u001b[0m\u001b[0;34m\u001b[0m\u001b[0m\n\u001b[1;32m     68\u001b[0m     \u001b[0mprint\u001b[0m\u001b[0;34m(\u001b[0m\u001b[0mreq_Res\u001b[0m\u001b[0;34m)\u001b[0m\u001b[0;34m\u001b[0m\u001b[0;34m\u001b[0m\u001b[0m\n",
            "\u001b[0;32m/usr/local/lib/python3.7/dist-packages/ipykernel/kernelbase.py\u001b[0m in \u001b[0;36mraw_input\u001b[0;34m(self, prompt)\u001b[0m\n\u001b[1;32m    702\u001b[0m             \u001b[0mself\u001b[0m\u001b[0;34m.\u001b[0m\u001b[0m_parent_ident\u001b[0m\u001b[0;34m,\u001b[0m\u001b[0;34m\u001b[0m\u001b[0;34m\u001b[0m\u001b[0m\n\u001b[1;32m    703\u001b[0m             \u001b[0mself\u001b[0m\u001b[0;34m.\u001b[0m\u001b[0m_parent_header\u001b[0m\u001b[0;34m,\u001b[0m\u001b[0;34m\u001b[0m\u001b[0;34m\u001b[0m\u001b[0m\n\u001b[0;32m--> 704\u001b[0;31m             \u001b[0mpassword\u001b[0m\u001b[0;34m=\u001b[0m\u001b[0;32mFalse\u001b[0m\u001b[0;34m,\u001b[0m\u001b[0;34m\u001b[0m\u001b[0;34m\u001b[0m\u001b[0m\n\u001b[0m\u001b[1;32m    705\u001b[0m         )\n\u001b[1;32m    706\u001b[0m \u001b[0;34m\u001b[0m\u001b[0m\n",
            "\u001b[0;32m/usr/local/lib/python3.7/dist-packages/ipykernel/kernelbase.py\u001b[0m in \u001b[0;36m_input_request\u001b[0;34m(self, prompt, ident, parent, password)\u001b[0m\n\u001b[1;32m    732\u001b[0m             \u001b[0;32mexcept\u001b[0m \u001b[0mKeyboardInterrupt\u001b[0m\u001b[0;34m:\u001b[0m\u001b[0;34m\u001b[0m\u001b[0;34m\u001b[0m\u001b[0m\n\u001b[1;32m    733\u001b[0m                 \u001b[0;31m# re-raise KeyboardInterrupt, to truncate traceback\u001b[0m\u001b[0;34m\u001b[0m\u001b[0;34m\u001b[0m\u001b[0;34m\u001b[0m\u001b[0m\n\u001b[0;32m--> 734\u001b[0;31m                 \u001b[0;32mraise\u001b[0m \u001b[0mKeyboardInterrupt\u001b[0m\u001b[0;34m\u001b[0m\u001b[0;34m\u001b[0m\u001b[0m\n\u001b[0m\u001b[1;32m    735\u001b[0m             \u001b[0;32melse\u001b[0m\u001b[0;34m:\u001b[0m\u001b[0;34m\u001b[0m\u001b[0;34m\u001b[0m\u001b[0m\n\u001b[1;32m    736\u001b[0m                 \u001b[0;32mbreak\u001b[0m\u001b[0;34m\u001b[0m\u001b[0;34m\u001b[0m\u001b[0m\n",
            "\u001b[0;31mKeyboardInterrupt\u001b[0m: "
          ]
        }
      ]
    },
    {
      "cell_type": "code",
      "source": [
        "p"
      ],
      "metadata": {
        "id": "r9hY1GcmCV9R"
      },
      "execution_count": null,
      "outputs": []
    }
  ]
}